{
 "cells": [
  {
   "cell_type": "markdown",
   "metadata": {
    "application/vnd.databricks.v1+cell": {
     "cellMetadata": {},
     "inputWidgets": {},
     "nuid": "1394bd12-ad3b-455f-9d63-6b5502f5d80f",
     "showTitle": false,
     "tableResultSettingsMap": {},
     "title": ""
    }
   },
   "source": [
    "\n",
    "<div style=\"text-align: center; line-height: 0; padding-top: 9px;\">\n",
    "  <img src=\"https://databricks.com/wp-content/uploads/2018/03/db-academy-rgb-1200px.png\" alt=\"Databricks 학습\">\n",
    "</div>\n"
   ]
  },
  {
   "cell_type": "markdown",
   "metadata": {
    "application/vnd.databricks.v1+cell": {
     "cellMetadata": {},
     "inputWidgets": {},
     "nuid": "199ce6fe-c6a9-451c-b449-c8cf5f46b761",
     "showTitle": false,
     "tableResultSettingsMap": {},
     "title": ""
    }
   },
   "source": [
    "# 01 - Databricks Workspace 가이드\n",
    "\n",
    "이 가이드에서는 다음을 포함하여 Databricks Workspace의 몇 가지 주요 구성 요소를 다룹니다.\n",
    "\n",
    "1. **Databricks Workspace 홈페이지를** 탐색하고 높은 수준의 탐색에 대한 유용성을 이해하십시오.\n",
    "\n",
    "1. **탐색 패널을 활용**하여 다양한 Databricks 기능 간에 전환하세요. \n",
    "\n",
    "1. **사용자 설정을 검사하고 변경합니다**.\n",
    "\n",
    "1. 모든 데모 및 실습에 대한 **강의실 설정을 실행**합니다.\n",
    "   \n",
    "1. **워크스페이스 자산 및 개체를 탐색**하여 Databricks 인터페이스의 다양한 영역을 효율적으로 이동하는 방법을 살펴봅니다.\n",
    "\n",
    "1. **Notebooks 작업**하여 Notebooks에서 코드를 생성, 편집 및 실행하는 방법을 살펴봅니다.\n",
    "\n",
    "1. **Unity Catalog 및 카탈로그 탐색기**, Unity Catalog에 등록된 다양한 자산을 찾는 방법 외에도 데이터에 대한 안전한 액세스를 보장하기 위해 다양한 사용자 및 그룹에 대한 권한을 할당하고 관리하는 방법을 다룹니다. \n",
    "\n",
    "1. **(선택 사항) 컴퓨트,** UI를 사용하여 새 클러스터를 만드는 방법을 살펴봅니다. \n",
    "\n",
    "1. **(선택 사항) Git 기능**에 대해 논의할 것입니다. 이 섹션에서는 Git 저장소에 연결하는 방법과 Git 폴더를 생성하는 방법을 설명합니다.\n",
    "\n",
    "**참고**: 이 데모에는 코딩이 거의 없습니다."
   ]
  },
  {
   "cell_type": "markdown",
   "metadata": {
    "application/vnd.databricks.v1+cell": {
     "cellMetadata": {},
     "inputWidgets": {},
     "nuid": "6c00bb10-5707-4feb-9739-e0b32e5f81ac",
     "showTitle": false,
     "tableResultSettingsMap": {},
     "title": ""
    }
   },
   "source": [
    "## 필수 - 클래식 컴퓨트 선택\n",
    "\n",
    "이 Notebook에서 셀을 실행하기 전에 랩에서 클래식 컴퓨트 클러스터를 선택하세요.  **서버리스**는 기본적으로 사용하도록 설정되어 있습니다.\n",
    "\n",
    "다음 단계에 따라 클래식 컴퓨트 클러스터를 선택합니다.\n",
    "\n",
    "\n",
    "1. 이 노트북의 오른쪽 상단으로 이동하고 드롭다운 메뉴를 클릭하여 클러스터를 선택합니다. 기본적으로 노트북은 **서버리스**를 사용합니다.\n",
    "\n",
    "2. 클러스터를 사용할 수 있는 경우 그것을 선택하고 다음 셀로 계속 진행합니다. 클러스터가 표시되지 않는 경우:\n",
    "\n",
    "   - 드롭다운에서 **더보기**를 클릭합니다.\n",
    "\n",
    "   - **기존 컴퓨트 리소스에 연결** 창에서 첫 번째 드롭다운을 사용하여 고유한 클러스터를 선택합니다.\n",
    "\n",
    "**참고:** 클러스터가 종료된 경우, 선택할 수 있도록 클러스터를 다시 시작해야 할 수 있습니다. 방법은 다음과 같습니다.\n",
    "\n",
    "1. 왼쪽 탐색 창에서 **컴퓨트**을 마우스 오른쪽 단추로 클릭하고 *새 탭에서 열기*를 선택합니다.\n",
    "\n",
    "2. 컴퓨트 클러스터 이름 오른쪽에 있는 삼각형 아이콘을 찾아 아이콘을 클릭합니다.\n",
    "\n",
    "3. 클러스터가 시작될 때까지 몇 분 정도 기다리십시오.\n",
    "\n",
    "4. 클러스터가 실행되면 위의 단계를 완료하여 클러스터를 선택합니다."
   ]
  },
  {
   "cell_type": "markdown",
   "metadata": {
    "application/vnd.databricks.v1+cell": {
     "cellMetadata": {},
     "inputWidgets": {},
     "nuid": "cff75006-70f3-4360-be44-09f95bf9456e",
     "showTitle": false,
     "tableResultSettingsMap": {},
     "title": ""
    }
   },
   "source": [
    "## 1. Databricks Workspace 홈페이지 살펴보기\n",
    "\n",
    "1. 왼쪽 상단의 **Databricks 로고**를 클릭하면 **Databricks에 오신 것을 환영합니다**라는 화면으로 이동합니다.\n",
    "\n",
    "1. 다음과 같은 레이블이 지정된 5개의 서로 다른 탭이 표시됩니다.\n",
    "   - **최근**\n",
    "   - **즐겨찾기**\n",
    "   - **인기**\n",
    "   - **Mosaic AI**\n",
    "   - **새로운 기능**\n",
    "\n",
    "1. **최근** 항목 아래에서 최근에 열었거나 작업한 모든 Notebooks을 찾을 수 있습니다.\n",
    "\n",
    "1. **즐겨찾기**에서 Databricks 내의 노트북, 테이블 또는 모든 종류의 자산을 즐겨찾기에 추가할 때마다 그것을 여기에서 찾을 수 있습니다. 항목을 즐겨찾기에 추가하려면 개체 이름 근처에 있는 그 별 아이콘을 선택합니다.\n",
    "\n",
    "1. **인기** 아래에서 작업 영역 내에서 인기 있는 테이블, Notebooks 및 기타 자산을 검색할 수 있습니다. 이 개체들은 지난 30일 동안 동료들이 자주 사용한, 귀하가 접근할 수 있는 개체들입니다.\n",
    "\n",
    "1. **Mosaic AI** 아래에는 Mosaic AI Model Serving에 등록된 새로 추가된 모델과 추천 모델이 표시됩니다. \n",
    "\n",
    "1. **새로운 기능**에서 플랫폼에 대한 최근 공지 및 업데이트를 볼 수 있습니다. 이 화면에서 기능에 대한 자세한 내용을 읽거나, 환경 내에서 이를 확인하거나, 공지 사항에서 직접 개체를 만들 수 있습니다. \n",
    "\n",
    "1. 또한 화면 상단에는 플랫폼 내에서 데이터, 노트북 또는 기타 개체 및 자산을 **검색**할 수 있는 검색 이 있습니다. \n"
   ]
  },
  {
   "cell_type": "markdown",
   "metadata": {
    "application/vnd.databricks.v1+cell": {
     "cellMetadata": {},
     "inputWidgets": {},
     "nuid": "e1e0972d-7e49-401e-85a8-d0d79dbc98d4",
     "showTitle": false,
     "tableResultSettingsMap": {},
     "title": ""
    }
   },
   "source": [
    "## 2. 탐색 패널 활용\n",
    "\n",
    "\n",
    "1. 왼쪽 상단의 **햄버거 아이콘** (세 개의 수평선이 서로 겹쳐져 있음)을 클릭합니다. 아이콘을 클릭하면 왼쪽 사이드바 탐색이 표시되거나 숨겨집니다. 아이콘이 숨겨져 있으면 햄버거 아이콘 위로 마우스를 가져가면 탐색 패널을 표시할 수 있습니다.\n",
    "\n",
    "\n",
    "\n",
    "1. 왼쪽 사이드바의 상단에는 다음 항목이 있습니다.\n",
    "   - **+ 새로 만들기**\n",
    "   - **워크스페이스**\n",
    "   - **최근**\n",
    "   - **카탈로그**\n",
    "   - **작업 및 파이프라인**\n",
    "   - **컴퓨트**\n",
    "   - **마켓플레이스**\n",
    "\n",
    "1. 사이드바 탐색 메뉴의 맨 위에 있는 **+ 새로 만들기**를 클릭하면 새 항목을 만들 수 있는 옵션이 있습니다.\n",
    "    - **데이터 추가 또는 업로드**\n",
    "    - **Notebook**\n",
    "    - **쿼리** \n",
    "    - **Dashboard**\n",
    "    - **Genie space**\n",
    "    - **작업**\n",
    "    - **DLT 파이프라인**\n",
    "    - **레거시 경고**\n",
    "    - **경고 베타**\n",
    "    - **실험**\n",
    "    - **모델**\n",
    "    - **앱**\n",
    "    - 맨 아래에 **더보기**가 표시되어 다음을 사용하여 만들 수 있습니다.\n",
    "      - **Git 폴더**\n",
    "      - **클러스터**\n",
    "      - **SQL Warehouse**\n",
    "      - **서빙 Endpoint**\n",
    "\n",
    "1. **SQL** 메뉴 그룹도 찾을 수 있습니다.\n",
    "   - **SQL Editor**\n",
    "   - **쿼리**\n",
    "   - **Dashboards**\n",
    "   - **Genie**\n",
    "   - **경고**\n",
    "   - **쿼리 이력**\n",
    "   - **SQL Warehouses**\n",
    "\n",
    "1. **데이터 엔지니어링** 창에서 다음을 찾을 수 있습니다.\n",
    "   - **작업 실행**\n",
    "   - **데이터 수집**\n",
    "\n",
    "1. **AI/ML**에서 다음을 찾을 수 있습니다.\n",
    "   - **플레이그라운드**\n",
    "   - **에이전트 베타**\n",
    "   - **실험**\n",
    "   - **기능**\n",
    "   - **모델**\n",
    "   - **서빙**"
   ]
  },
  {
   "cell_type": "markdown",
   "metadata": {
    "application/vnd.databricks.v1+cell": {
     "cellMetadata": {},
     "inputWidgets": {},
     "nuid": "ba191db7-70e5-45d7-837a-e162c1b9f321",
     "showTitle": false,
     "tableResultSettingsMap": {},
     "title": ""
    }
   },
   "source": [
    "## 3. 사용자 설정 검사 및 변경\n",
    "\n",
    "1. 오른쪽 상단에서 사용자 아이콘(일반적으로 사용자 이름과 연결된 문자)을 클릭하고 **설정**을 선택할 수 있습니다.\n",
    "\n",
    "2. **설정**에는 5가지 옵션이 있는 **사용자 설정**이 표시됩니다.\n",
    "   - **프로필**\n",
    "   - **기본 설정**\n",
    "   - **개발자**\n",
    "   - **연결된 계정**\n",
    "   - **알림**\n",
    "\n",
    "   **참고**로, 관리 권한이 있는 경우 **워크스페이스 관리자**를 위한 추가 메뉴 옵션이 제공됩니다. 이러한 옵션은 이 콘텐츠에서 다루지 않습니다.\n",
    "\n",
    "3. **프로필**을 클릭하면 다음이 표시됩니다.\n",
    "   - 표시 이름\n",
    "   - 귀하가 속한 그룹\n",
    "   - Databricks 계정의 비밀번호\n",
    "\n",
    "4. 기본 **설정**에는 관리할 수 있는 두 가지 옵션이 표시됩니다.\n",
    "   - **일반: 언어**\n",
    "   - **외관: 인터페이스 테마**\n",
    "\n",
    "   변경하려면 이러한 옵션을 클릭할 수 있습니다.\n",
    "\n",
    "5. **개발자** 아래에서 아래로 스크롤하면 다음과 같은 다양한 옵션이 표시됩니다.\n",
    "   - **액세스 토큰** 관리\n",
    "   - **SQL 쿼리 스니펫**\n",
    "   - **편집기 설정**\n",
    "      - **일반** 설정\n",
    "      - **코드 편집기** 설정\n",
    "      - **실험적 기능** 전환\n",
    "\n",
    "   아래로 스크롤하면 다양한 옵션이 켜지거나 꺼지는 것을 볼 수 있습니다.\n",
    "\n",
    "6. **연결된 계정**에서 Git 통합에 대한 정보를 찾을 수 있습니다. 여기에서 다음을 수행할 수 있습니다.\n",
    "   - Git 계정 연결\n",
    "   - 지정된 Git 공급자(예: GitHub)에 대한 **개인용 액세스 토큰**을 선택합니다.\n",
    "\n",
    "7. 마지막으로 **알림**에서 다음을 받을 수 있는 시기를 관리할 수 있습니다.\n",
    "   - **Model Registry** 이벤트\n",
    "   - **댓글 이메일 알림**\n",
    "   - **계정 수준 이메일 통신**\n",
    "   - **판촉 이메일 커뮤니케이션**"
   ]
  },
  {
   "cell_type": "markdown",
   "metadata": {
    "application/vnd.databricks.v1+cell": {
     "cellMetadata": {},
     "inputWidgets": {},
     "nuid": "23fe4753-d421-4ea7-a731-c8e1feb8893a",
     "showTitle": false,
     "tableResultSettingsMap": {},
     "title": ""
    }
   },
   "source": [
    "## 4. 강의실 설정 실행\n",
    "### 필수 - 서버리스 컴퓨트 선택\n",
    "이 Notebook에서 셀을 실행하기 전에 사용 가능한 Serverless 컴퓨트 클러스터를 선택하세요.  **서버리스** 는 기본적으로 사용하도록 설정되어 있습니다.\n",
    "\n",
    "다음 단계에 따라 이 데모를 위한 컴퓨트 클러스터를 선택합니다.\n",
    "1. 이 노트북의 오른쪽 상단으로 이동하고 드롭다운 메뉴를 클릭하여 클러스터를 선택합니다. 기본적으로 노트북은 **서버리스**를 사용하지만 이는 올바른 클러스터가 선택되었는지 확인하는 것이 좋습니다.\n",
    "1. 대체 컴퓨트 클러스터를 선택한 경우 드롭다운을 사용하여 **서버리스** 컴퓨트 클러스터를 선택합니다."
   ]
  },
  {
   "cell_type": "markdown",
   "metadata": {
    "application/vnd.databricks.v1+cell": {
     "cellMetadata": {},
     "inputWidgets": {},
     "nuid": "944394cb-8dbe-4b33-bb6f-3f3c0d754372",
     "showTitle": false,
     "tableResultSettingsMap": {},
     "title": ""
    }
   },
   "source": [
    "\n",
    "### 교실 설정\n",
    "\n",
    "데모를 계속하기 전에 제공된 강의실 설정 스크립트를 실행합니다. 이 스크립트는 데모에 필요한 구성 변수를 정의합니다."
   ]
  },
  {
   "cell_type": "code",
   "execution_count": 0,
   "metadata": {
    "application/vnd.databricks.v1+cell": {
     "cellMetadata": {
      "byteLimit": 2048000,
      "rowLimit": 10000
     },
     "inputWidgets": {},
     "nuid": "5b8444c9-a0d2-4a7c-8aea-5606dce78ade",
     "showTitle": false,
     "tableResultSettingsMap": {},
     "title": ""
    }
   },
   "outputs": [
    {
     "output_type": "stream",
     "name": "stdout",
     "output_type": "stream",
     "text": [
      "Collecting databricks-sdk==0.36.0\n  Downloading databricks_sdk-0.36.0-py3-none-any.whl (569 kB)\n     ━━━━━━━━━━━━━━━━━━━━━━━━━━━━━━━━━━━━━━━ 569.1/569.1 kB 3.7 MB/s eta 0:00:00\nRequirement already satisfied: requests<3,>=2.28.1 in /databricks/python3/lib/python3.10/site-packages (from databricks-sdk==0.36.0) (2.28.1)\nRequirement already satisfied: google-auth~=2.0 in /databricks/python3/lib/python3.10/site-packages (from databricks-sdk==0.36.0) (2.28.1)\nRequirement already satisfied: pyasn1-modules>=0.2.1 in /databricks/python3/lib/python3.10/site-packages (from google-auth~=2.0->databricks-sdk==0.36.0) (0.3.0)\nRequirement already satisfied: cachetools<6.0,>=2.0.0 in /databricks/python3/lib/python3.10/site-packages (from google-auth~=2.0->databricks-sdk==0.36.0) (5.3.2)\nRequirement already satisfied: rsa<5,>=3.1.4 in /databricks/python3/lib/python3.10/site-packages (from google-auth~=2.0->databricks-sdk==0.36.0) (4.9)\nRequirement already satisfied: urllib3<1.27,>=1.21.1 in /databricks/python3/lib/python3.10/site-packages (from requests<3,>=2.28.1->databricks-sdk==0.36.0) (1.26.14)\nRequirement already satisfied: idna<4,>=2.5 in /databricks/python3/lib/python3.10/site-packages (from requests<3,>=2.28.1->databricks-sdk==0.36.0) (3.4)\nRequirement already satisfied: certifi>=2017.4.17 in /databricks/python3/lib/python3.10/site-packages (from requests<3,>=2.28.1->databricks-sdk==0.36.0) (2022.12.7)\nRequirement already satisfied: charset-normalizer<3,>=2 in /databricks/python3/lib/python3.10/site-packages (from requests<3,>=2.28.1->databricks-sdk==0.36.0) (2.0.4)\nRequirement already satisfied: pyasn1<0.6.0,>=0.4.6 in /databricks/python3/lib/python3.10/site-packages (from pyasn1-modules>=0.2.1->google-auth~=2.0->databricks-sdk==0.36.0) (0.5.1)\nInstalling collected packages: databricks-sdk\n  Attempting uninstall: databricks-sdk\n    Found existing installation: databricks-sdk 0.20.0\n    Not uninstalling databricks-sdk at /databricks/python3/lib/python3.10/site-packages, outside environment /local_disk0/.ephemeral_nfs/envs/pythonEnv-feda18e8-75c4-4bf3-a01a-7ef3b76923b0\n    Can't uninstall 'databricks-sdk'. No files were found to uninstall.\nSuccessfully installed databricks-sdk-0.36.0\n\u001B[43mNote: you may need to restart the kernel using %restart_python or dbutils.library.restartPython() to use updated packages.\u001B[0m\n"
     ]
    },
    {
     "output_type": "display_data",
     "data": {
      "text/html": [
       "<style scoped>\n",
       "  .ansiout {\n",
       "    display: block;\n",
       "    unicode-bidi: embed;\n",
       "    white-space: pre-wrap;\n",
       "    word-wrap: break-word;\n",
       "    word-break: break-all;\n",
       "    font-family: \"Menlo\", \"Monaco\", \"Consolas\", \"Ubuntu Mono\", \"Source Code Pro\", monospace;\n",
       "    font-size: 13px;\n",
       "    color: #555;\n",
       "    margin-left: 4px;\n",
       "    line-height: 19px;\n",
       "  }\n",
       "</style>"
      ]
     },
     "metadata": {
      "application/vnd.databricks.v1+output": {
       "arguments": {},
       "data": "",
       "errorSummary": "",
       "errorTraceType": null,
       "metadata": {},
       "type": "ipynbError"
      }
     },
     "output_type": "display_data"
    }
   ],
   "source": [
    "%run ../Includes/Classroom-Setup-1"
   ]
  },
  {
   "cell_type": "markdown",
   "metadata": {
    "application/vnd.databricks.v1+cell": {
     "cellMetadata": {},
     "inputWidgets": {},
     "nuid": "dd2d87e7-bff7-45cb-8bb7-13f699be295c",
     "showTitle": false,
     "tableResultSettingsMap": {},
     "title": ""
    }
   },
   "source": [
    "**기타 규칙:**\n",
    "\n",
    "이 데모 전체에서 `DA` 개체를 참조합니다. Databricks Academy에서 제공하는 이 개체에는 사용자 이름, 카탈로그 이름, 스키마 이름, 작업 디렉터리 및 데이터 세트 위치와 같은 변수가 포함되어 있습니다. 아래 코드 블록을 실행하여 이러한 세부 정보를 확인합니다."
   ]
  },
  {
   "cell_type": "code",
   "execution_count": 0,
   "metadata": {
    "application/vnd.databricks.v1+cell": {
     "cellMetadata": {},
     "inputWidgets": {},
     "nuid": "144b4526-ba6f-4a2f-ad91-e767f2a5c6a5",
     "showTitle": false,
     "tableResultSettingsMap": {},
     "title": ""
    }
   },
   "outputs": [],
   "source": [
    "print(f\"Username:          {DA.username}\")\n",
    "print(f\"Catalog Name:      {DA.catalog_name}\")\n",
    "print(f\"Schema Name:       {DA.schema_name}\")\n",
    "print(f\"Working Directory: {DA.paths.working_dir}\")\n",
    "print(f\"Dataset Location:  {DA.paths.datasets}\")"
   ]
  },
  {
   "cell_type": "markdown",
   "metadata": {
    "application/vnd.databricks.v1+cell": {
     "cellMetadata": {},
     "inputWidgets": {},
     "nuid": "6990738e-263b-4b04-9715-7cd5a10ae387",
     "showTitle": false,
     "tableResultSettingsMap": {},
     "title": ""
    }
   },
   "source": [
    "### 샘플 테이블 만들기\n",
    "\n",
    "`DA`라는 개체를 사용하여 `wine_quality_table` 샘플 테이블을 만들어 보겠습니다. 데모 전체에서 이 테이블을 사용할 것입니다."
   ]
  },
  {
   "cell_type": "code",
   "execution_count": 0,
   "metadata": {
    "application/vnd.databricks.v1+cell": {
     "cellMetadata": {},
     "inputWidgets": {},
     "nuid": "8f4e9903-cc79-4eea-bd78-1d4123727f2a",
     "showTitle": false,
     "tableResultSettingsMap": {},
     "title": ""
    }
   },
   "outputs": [],
   "source": [
    "DA.create_demo_table()"
   ]
  },
  {
   "cell_type": "markdown",
   "metadata": {
    "application/vnd.databricks.v1+cell": {
     "cellMetadata": {},
     "inputWidgets": {},
     "nuid": "0554eef5-27f3-4b80-92d4-aecf749da692",
     "showTitle": false,
     "tableResultSettingsMap": {},
     "title": ""
    }
   },
   "source": [
    "\n",
    "## 5. Workspace 자산 및 개체 탐색\n",
    "\n",
    "플랫폼의 워크스페이스 영역은 Notebooks 및 파일과 같은 다양한 자산을 구성하고 액세스하기 위한 중앙 허브 역할을 합니다. 왼쪽 사이드바 메뉴를 사용하여 Workspace으로 이동합니다."
   ]
  },
  {
   "cell_type": "markdown",
   "metadata": {
    "application/vnd.databricks.v1+cell": {
     "cellMetadata": {},
     "inputWidgets": {},
     "nuid": "a7682bf5-43db-45fc-8be4-4fe7f1be61df",
     "showTitle": false,
     "tableResultSettingsMap": {},
     "title": ""
    }
   },
   "source": [
    "\n",
    "### Workspace\n",
    "\n",
    "Workspace는 자산을 관리하고 다양한 작업을 수행하는 곳입니다. 워크스페이스 내에서 일반적인 작업을 탐색하고 수행하는 방법은 다음과 같습니다.\n",
    "\n",
    "* **폴더 만들기**:\n",
    "   - 왼쪽 탐색 모음에서 **Workspace** 버튼을 클릭합니다.\n",
    "   - 새 폴더를 만들 폴더를 선택합니다.\n",
    "   - 마우스 오른쪽 버튼을 클릭하고 **Create > Folder**를 선택합니다.\n",
    "   - 폴더 이름을 입력하고 **만들기**을 클릭합니다.\n",
    "   - 또는 오른쪽 상단 모서리에 있는 **만들기** 버튼을 클릭합니다.\n",
    "   - **폴더** 옵션을 선택하고 이름을 입력한 후 **만들기** 버튼을 클릭합니다. \n",
    "\n",
    "* **파일 가져오기**:\n",
    "   - 원하는 폴더로 이동합니다.\n",
    "   - 마우스 오른쪽 버튼을 클릭하고 **가져**오기를 선택합니다.\n",
    "   - 가져올 파일을 선택하고 **가져**오기를 클릭합니다.\n",
    "   - 또는 원하는 폴더로 이동하여 오른쪽 상단 모서리에 있는 **( ⋮ )** 케밥 아이콘을 클릭합니다.\n",
    "   - 드롭다운에서 가져오기 옵션을 선택합니다.\n",
    "   - 가져올 파일을 선택하고 **가져**오기를 클릭합니다.\n",
    "\n",
    "* **파일 내보내기**:\n",
    "   - 워크스페이스에서 파일을 마우스 오른쪽 버튼으로 클릭합니다.\n",
    "   - 다른 이름으로 **다운로드**를 선택하고 원하는 내보내기 형식을 선택합니다.\n",
    "   - 또는 파일이 있는 폴더로 이동합니다\n",
    "   - **( ⋮ )** 케밥 아이콘을 클릭하고 다른 이름으로 다운로드를 선택합니다.\n",
    "   - 원하는 파일 형식을 선택합니다.\n",
    "\n",
    "* **폴더 탐색**:\n",
    "   - 폴더를 두 번 클릭하여 그 폴더를 입력합니다.\n",
    "   - 상단의 이동 경로 추적을 사용하여 뒤로 이동합니다.\n",
    "   - 또는 왼쪽 사이드바의 워크스페이스를 클릭하여 폴더 구조 상단으로 이동합니다.\n",
    "\n",
    "* **노트북 만들기**:\n",
    "   - 원하는 폴더로 이동합니다.\n",
    "   - 마우스 오른쪽 버튼을 클릭하고 생성 위로 마우스를 가져갑니다.\n",
    "   - 드랍다운에서 노트북 옵션을 선택합니다.\n",
    "   - 또는 원하는 폴더 안에 있는 **추가** 버튼을 클릭 하세요\n",
    "   - 새 노트북을 생성하려면 **노트북** 옵션을 선택합니다.\n",
    "\n",
    "* **폴더 이름 바꾸기**:\n",
    "   - 폴더 이름 위에 마우스를 올립니다.\n",
    "   - 폴더를 마우스 오른쪽 버튼으로 클릭하고 **이름 바꾸기**를 선택합니다.\n",
    "   - 새 이름을 입력하고 **확인**을 선택합니다.\n",
    "   - 또는 원하는 폴더로 이동합니다. \n",
    "   - 이름을 바꾸려는 폴더 이름에 있는 케밥 아이콘 **(⋮)** 을 클릭합니다.\n",
    "   - 폴더 이름을 바꾸고 **확인** 버튼을 클릭합니다.\n",
    " \n",
    "* **공유 폴더**:\n",
    "   - 공유하려는 폴더 위로 마우스를 가져갑니다.\n",
    "   - 오른쪽 모서리에 있는 케밥 아이콘 **(⋮)** 을 클릭합니다.\n",
    "   - 드랍다운에서 공유(권한) 옵션을 클릭합니다.\n",
    "   - 드랍다운 메뉴에서 권한을 부여할 사용자를 선택할 수 있습니다.\n",
    "   - 선택하면 오른쪽에 추가 드랍다운 메뉴가 나타납니다. \n",
    "   - 사용자에게 부여할 편집, 보기, 관리, 실행 권한을 제공하고 **추가**를 클릭합니다. 오른쪽 상단에 권한 변경을 확인하는 메시지가 표시됩니다. \n",
    "* **파일 이동**\n",
    "   - Databricks는 **Workspace** 내에서 노트북과 파일을 정리할 때 드래그 앤 드롭을 지원합니다.\n"
   ]
  },
  {
   "cell_type": "markdown",
   "metadata": {
    "application/vnd.databricks.v1+cell": {
     "cellMetadata": {},
     "inputWidgets": {},
     "nuid": "ea8f91e2-3555-4ce5-adfe-e8e3c602a018",
     "showTitle": false,
     "tableResultSettingsMap": {},
     "title": ""
    }
   },
   "source": [
    "### 자산 찾기\n",
    "\n",
    "Workspace에서 상단의 검색 창을 사용하여 자산을 빠르게 찾을 수 있습니다. Databricks의 검색 기능은 **DatabricksIQ**에 의해 구동되며, 입력할 때 지능적이고 상황에 맞는 제안을 제공합니다.\n",
    "\n",
    "**검색창을 통해 자산 찾기:**\n",
    "- 상단 중앙에 있는 **검색창**을 클릭하세요.\n",
    "- **알려진 테이블 또는 노트북**의 이름을 입력합니다 (예: `wine_quality_table` 이전에 만든 것을 만든 경우).\n",
    "- 드롭다운에서 일치하는 결과를 선택하거나 **Enter** 키를 눌러 모든 일치 항목을 봅니다.\n",
    "- 필터를 사용하여 자산 유형(예: **Notebooks**, **Dashboards** 또는 **테이블**)별로 결과 범위를 좁힙니다.\n",
    "\n",
    "**최근 파일 및 폴더 찾기:**\n",
    "- 왼쪽 사이드바에서 **최근 항목을** 클릭합니다.\n",
    "- 다시 방문하려는 파일, 노트북 또는 테이블을 선택합니다.\n",
    "\n",
    "> \uD83D\uDCA1 **팁:** 정확한 이름을 잘 모르는 경우 키워드를 사용해 보세요. 검색은 유연하게 작동하여 여전히 관련 결과를 표시합니다.\n"
   ]
  },
  {
   "cell_type": "markdown",
   "metadata": {
    "application/vnd.databricks.v1+cell": {
     "cellMetadata": {},
     "inputWidgets": {},
     "nuid": "34ddfd42-0f73-43c2-8043-97a829de7516",
     "showTitle": false,
     "tableResultSettingsMap": {},
     "title": ""
    }
   },
   "source": [
    "\n",
    "## 6. Notebooks와 작업하기\n",
    "\n",
    "이제 Databricks Notebooks의 힘을 살펴보겠습니다.\n",
    "\n",
    "* Notebook을 클러스터에 연결합니다.\n",
    "   - 왼쪽 탐색 모음에서 **Workspace**를 클릭합니다.\n",
    "   - 원하는 폴더를 선택하거나 새 폴더를 만듭니다.\n",
    "   - 마우스 오른쪽 버튼을 클릭하고 **만들기 > Notebook**를 선택합니다.\n",
    "   - 노트북의 이름을 지정하고 드롭다운에서 이전에 만든 클러스터를 선택합니다.\n",
    "   - **확인**을 클릭합니다.\n",
    "\n",
    "* 셀 만들기\n",
    "   - 기존 셀의 맨 아래로 이동합니다.\n",
    "   - **(+) 코드** 아이콘을 클릭하여 새 셀을 추가합니다.   \n",
    "\n",
    "* 셀 실행:\n",
    "   - 노트북의 셀은 셀의 왼쪽 상단 모서리에 있는 **실행** 버튼을 사용하거나 **Shift + Enter**를 눌러 실행할 수 있습니다.\n",
    "\n",
    "* 모든 셀을 실행:\n",
    "   - **모두 실행** 버튼을 클릭하여 노트북에서 모든 셀을 한 번에 실행합니다.\n",
    "\n",
    "* Python, SQL 셀 만들기:\n",
    "   - 셀의 오른쪽 상단에 있는 언어 전환기 셀로 이동합니다.\n",
    "   - 셀에 대해 원하는 언어를 선택합니다.\n",
    "   - 또는 셀 맨 위에 **%py** 또는 **%sql**를 입력합니다.\n",
    "\n",
    "* 셀 출력 보기:\n",
    "   - Notebooks 데이터를 시각화하기 위한 대화형 차트 생성을 지원합니다. \n",
    "   - Spark DataFrame의 스키마도 출력의 일부로 볼 수 있습니다. \n",
    "\n",
    "### 왼쪽 사이드바 작업\n",
    "   - 왼쪽 사이드바와 맨 위 셀 사이에 있는 **목차** 아이콘을 클릭하여 노트북 테이블 콘텐츠에 액세스합니다.\n",
    "   - 폴더 아이콘을 클릭하여 워크스페이스의 **폴더** 구조에 액세스 합니다.\n",
    "   - **카탈로그** 아이콘으로 이동하여 사용 가능한 카탈로그, 스키마 및 기타 자산 목록을 가져옵니다. \n",
    "   - 코드 제안 보기, 오류 진단 등을 위해 **Assistant**(일반적으로 사용 가능)로 이동합니다.\n",
    "\n",
    "### 오른쪽 사이드바 작업 \n",
    "   - 메시지 아이콘을 클릭하여 기존 코드에 대한 **주석**을 추가합니다.\n",
    "   - **MLflow 실험** 아이콘을 사용하여 워크스페이스 실험을 작성하십시오.\n",
    "   - **버전 이력** 아이콘을 통해 코드 버전 관리 이력에 액세스합니다.\n",
    "   - **변수** 아이콘으로 이동하여 노트북에 사용되는 변수 목록을 가져옵니다.\n",
    "   - **환경**도 봅니다, 이는 Python 환경 구성을 보여줍니다. \n"
   ]
  },
  {
   "cell_type": "markdown",
   "metadata": {
    "application/vnd.databricks.v1+cell": {
     "cellMetadata": {},
     "inputWidgets": {},
     "nuid": "2c180943-a2b6-4283-b0b6-e19fa5286758",
     "showTitle": false,
     "tableResultSettingsMap": {},
     "title": ""
    }
   },
   "source": [
    "### Markdown으로 작업하기\n",
    "\n",
    "마크다운 셀 작업:\n",
    "- 마크다운 셀을 사용하면 노트북에 서식화된 텍스트와 문서를 추가할 수 있습니다.\n",
    "- 새 셀을 만들고 유형을 Markdown으로 변경한 다음 Markdown 구문을 사용하여 TEXT를 입력합니다.\n",
    "- 또는 셀 맨 위에 **%md**를 입력합니다.\n",
    "\n",
    "Markdown 셀 편집:\n",
    "- 이 셀을 두 번 클릭하여 편집을 시작합니다.\n",
    "- 그런 다음 편집을 중지하려면 **`Esc`** 키를 누릅니다.\n"
   ]
  },
  {
   "cell_type": "markdown",
   "metadata": {
    "application/vnd.databricks.v1+cell": {
     "cellMetadata": {},
     "inputWidgets": {},
     "nuid": "a5309097-6ed1-4d47-81d2-ab9a4eca8c89",
     "showTitle": false,
     "tableResultSettingsMap": {},
     "title": ""
    }
   },
   "source": [
    "### 마크다운 예제\n",
    "\n",
    "# 제목 1\n",
    "## 제목 2\n",
    "### 제목 3\n",
    "\n",
    "이것은 비상 방송 시스템의 테스트입니다. 이것은 단지 테스트일 뿐입니다.\n",
    "\n",
    "이것은 문자에 **굵**은 단어가 있는 텍스트입니다.\n",
    "\n",
    "이것은 문자에 *기울임꼴*로 된 단어가 있는 텍스트입니다.\n",
    "\n",
    "순서가 있는 목록입니다.\n",
    "1. 하나\n",
    "1. 둘\n",
    "1. 셋\n",
    "\n",
    "순서가 지정되지 않은 목록입니다.\n",
    "* 사과\n",
    "* 복숭아\n",
    "* 바나나\n",
    "\n",
    "링크/포함된 HTML:  <a href=\"https://en.wikipedia.org/wiki/Markdown\" target=\"_blank\">마크다운 - 위키백과</a>\n",
    "\n",
    "이미지:\n",
    "\n",
    "![Spark](../Includes/images/apache-spark.png)\n",
    "\n",
    "물론 테이블:\n",
    "\n",
    "| 이름   | 값 |\n",
    "|--------|-------|\n",
    "| Yi     | 1     |\n",
    "| Ali    | 2     |\n",
    "| Selina | 3     |\n"
   ]
  },
  {
   "cell_type": "markdown",
   "metadata": {
    "application/vnd.databricks.v1+cell": {
     "cellMetadata": {},
     "inputWidgets": {},
     "nuid": "fcd568d3-edc0-48b0-b784-58620ca23076",
     "showTitle": false,
     "tableResultSettingsMap": {},
     "title": ""
    }
   },
   "source": [
    "### 예 1: SQL 코드 실행"
   ]
  },
  {
   "cell_type": "code",
   "execution_count": 0,
   "metadata": {
    "application/vnd.databricks.v1+cell": {
     "cellMetadata": {},
     "inputWidgets": {},
     "nuid": "4599e3c3-0ba0-4767-aa96-7516b7524a56",
     "showTitle": false,
     "tableResultSettingsMap": {},
     "title": ""
    }
   },
   "outputs": [],
   "source": [
    "%sql\n",
    "SELECT * FROM wine_quality_table;"
   ]
  },
  {
   "cell_type": "markdown",
   "metadata": {
    "application/vnd.databricks.v1+cell": {
     "cellMetadata": {},
     "inputWidgets": {},
     "nuid": "f0691fe5-e978-4e8a-bcfe-fa0cf0f23625",
     "showTitle": false,
     "tableResultSettingsMap": {},
     "title": ""
    }
   },
   "source": [
    "### 예 2: Python 코드 실행"
   ]
  },
  {
   "cell_type": "code",
   "execution_count": 0,
   "metadata": {
    "application/vnd.databricks.v1+cell": {
     "cellMetadata": {},
     "inputWidgets": {},
     "nuid": "c7f2b0e5-713b-4193-bff6-a263586e84fa",
     "showTitle": false,
     "tableResultSettingsMap": {},
     "title": ""
    }
   },
   "outputs": [],
   "source": [
    "print(\"This is a Python cell!!\")"
   ]
  },
  {
   "cell_type": "markdown",
   "metadata": {
    "application/vnd.databricks.v1+cell": {
     "cellMetadata": {},
     "inputWidgets": {},
     "nuid": "54dccda6-0d3b-4874-8d45-27dd2e91af6a",
     "showTitle": false,
     "tableResultSettingsMap": {},
     "title": ""
    }
   },
   "source": [
    "### 예 3: Databricks Assistant 사용\n",
    "\n",
    "여기에서는 Databricks Assistant를 활용하여 정수 1부터 10까지 합산하기 위한 Python 코드를 작성하는 방법을 보여줍니다. \n",
    "\n",
    "1. **다음 프롬프트를 복사합니다:** Python을 사용하여 정수 1에서 10까지의 합계를 계산합니다. \n",
    "1. 이 코드 셀 아래에 새 코드 셀을 만들고 오른쪽 상단의 어시스턴트 아이콘을 클릭합니다. 또는 키보드에서 **Command/Alt** + **I**를 누를 수 있습니다. \n",
    "1. 프롬프트를 붙여넣고 **생성**을 클릭합니다. \n",
    "1. **제안된 실행**을 클릭합니다. 출력은 `55`가 될 것입니다. \n",
    "1. 오른쪽에 있는 파란색 **수락** 버튼을 클릭합니다.\n"
   ]
  },
  {
   "cell_type": "code",
   "execution_count": 0,
   "metadata": {
    "application/vnd.databricks.v1+cell": {
     "cellMetadata": {},
     "inputWidgets": {},
     "nuid": "ddacc6da-287a-4a8a-ba62-1354a0ab72da",
     "showTitle": false,
     "tableResultSettingsMap": {},
     "title": ""
    }
   },
   "outputs": [],
   "source": [
    "total_sum = sum(range(1, 11))\n",
    "display(total_sum)"
   ]
  },
  {
   "cell_type": "markdown",
   "metadata": {
    "application/vnd.databricks.v1+cell": {
     "cellMetadata": {},
     "inputWidgets": {},
     "nuid": "fdf4e2af-2e1f-43b4-87f7-191f703de912",
     "showTitle": false,
     "tableResultSettingsMap": {},
     "title": ""
    }
   },
   "source": [
    "\n",
    "## 7. Unity Catalog 및 카탈로그 탐색기\n",
    "\n",
    "권한 관리는 데이터 및 리소스에 액세스하고 작업을 수행할 수 있는 사람을 제어하는 데 필수적입니다. Unity Catalog를 사용하면 데이터 자산 소유자가 카탈로그 탐색기 UI 또는 SQL 명령을 사용하여 권한을 관리할 수 있습니다."
   ]
  },
  {
   "cell_type": "markdown",
   "metadata": {
    "application/vnd.databricks.v1+cell": {
     "cellMetadata": {},
     "inputWidgets": {},
     "nuid": "c986636d-a24b-4b65-872e-d4abc501750f",
     "showTitle": false,
     "tableResultSettingsMap": {},
     "title": ""
    }
   },
   "source": [
    "### UI를 사용하여 사용자에게 테이블 권한 부여하기\n",
    "\n",
    "1. 사이드바에서 이동하여 **카탈로그**로 테이블(예: `wine_quality_table`)이 저장된 카탈로그 및 스키마를 찾습니다.\n",
    "2. 스키마 내에서 테이블을 클릭하여 **카탈로그 탐색기**에서 세부 정보 페이지를 엽니다.\n",
    "3. **권한** 탭으로 이동하여 **부여**를 클릭합니다.\n",
    "    - 권한을 할당할 사용자 또는 그룹을 선택합니다.\n",
    "    - 부여할 권한을 선택합니다. 예를 들어 읽기 권한을 `SELECT` 할당합니다.\n",
    "    - 더 광범위한 역할에 대해 권한 사전 설정을 **사용할** 수도 있습니다.\n",
    "        - **데이터 리더:** 카탈로그의 모든 개체를 읽을 수 있습니다.\n",
    "        - **데이터 편집기**: 카탈로그에서 새 개체를 읽고, 수정하고, 만들 수 있습니다.\n",
    "4. **부여**를 클릭하여 변경 사항을 적용합니다.\n",
    "\n",
    "> \uD83D\uDCA1 카탈로그 탐색기에서는 스키마와 연결된 볼륨 및 모델과 같은 다른 자산도 관리할 수 있습니다."
   ]
  },
  {
   "cell_type": "markdown",
   "metadata": {
    "application/vnd.databricks.v1+cell": {
     "cellMetadata": {},
     "inputWidgets": {},
     "nuid": "583afc37-082b-4542-85b4-2c6f4dcab0d4",
     "showTitle": false,
     "tableResultSettingsMap": {},
     "title": ""
    }
   },
   "source": [
    "### SQL문을 사용하여 사용자에게 테이블 권한 부여\n",
    "\n",
    "SQL을 통해 권한을 부여할 수도 있습니다. 다음 셀을 실행합니다. 셀을 실행한 후 출력을 볼 수 있으며 이전 지침을 사용하여 카탈로그 탐색기 내에서 결과를 확인할 수도 있습니다."
   ]
  },
  {
   "cell_type": "code",
   "execution_count": 0,
   "metadata": {
    "application/vnd.databricks.v1+cell": {
     "cellMetadata": {},
     "inputWidgets": {},
     "nuid": "28161d54-81f2-4e21-8e03-57e6f23ec2a3",
     "showTitle": false,
     "tableResultSettingsMap": {},
     "title": ""
    }
   },
   "outputs": [],
   "source": [
    "%sql\n",
    "GRANT SELECT ON TABLE `wine_quality_table` TO `account users`;\n",
    "SHOW GRANTS ON TABLE `wine_quality_table`"
   ]
  },
  {
   "cell_type": "markdown",
   "metadata": {
    "application/vnd.databricks.v1+cell": {
     "cellMetadata": {},
     "inputWidgets": {},
     "nuid": "6ed9ee93-13c2-4db5-a914-beb66606865d",
     "showTitle": false,
     "tableResultSettingsMap": {},
     "title": ""
    }
   },
   "source": [
    "## 8. 컴퓨트 (선택 사항)\n",
    "\n",
    "1. 왼쪽 사이드바에서 **컴퓨트**를 클릭합니다.\n",
    "\n",
    "2. 컴퓨트 페이지 맨 위에 다음과 같은 여러 탭이 표시됩니다.\n",
    "   - **다목적 컴퓨트**\n",
    "   - **작업 계산**\n",
    "   - **SQL Warehouses**\n",
    "   - **벡터 검색**\n",
    "   - **풀**\n",
    "   - **앱**\n",
    "\n",
    "3. **다목적 컴퓨트** 탭에서 오른쪽 상단 모서리에 있는 **개인 컴퓨트으로 만들기** 버튼을 클릭합니다.\n",
    "\n",
    "4. 이제 컴퓨트 인스턴스를 구성할 수 있는 화면이 표시됩니다. 드롭다운에서 사용 가능한 **클러스터 정책**을 선택합니다. 예를 들어, **개인 컴퓨트**(사용 가능한 경우) 등이 있습니다.\n",
    "\n",
    "5. 다음과 같은 옵션을 구성할 수 있습니다.\n",
    "   - **단일 노드** 또는 **다중 노드**\n",
    "   - **액세스 모드** (예: **단일 사용자**, **공유**)\n",
    "   - **노드 유형**\n",
    "   - **인스턴스 프로필**\n",
    "   - **태그**\n",
    "   - 기타 고급 옵션\n",
    "\n",
    "6. **요약** 섹션에서 다음을 찾을 수 있습니다.\n",
    "   - **Unity Catalog**가 활성화되었는지 여부 \n",
    "   - **Databricks Runtime** 버전(예: ML Runtime)\n",
    "\n",
    "7. 이 데모에서는 새 클러스터를 생성하지 않습니다. **취소**를 클릭하여 화면을 종료합니다.\n",
    "\n",
    "\n",
    "\n",
    "### Databricks의 컴퓨트 및 런타임 이해\n",
    "\n",
    "Databricks는 다양한 태스크에 대해 다양한 유형의 컴퓨트을 제공합니다.\n",
    "\n",
    "- **Notebooks를 위한 서버리스 컴퓨트**\n",
    "- **작업을 위한 서버리스 컴퓨트**\n",
    "- **다목적 컴퓨트**\n",
    "- **작업 컴퓨트**\n",
    "- **인스턴스 풀**\n",
    "- **서버리스 SQL Warehouse**\n",
    "- **클래식 SQL Warehouse**\n",
    "\n",
    "컴퓨트 가속을 위해 **CPU** 또는 **GPU** 중에서 선택할 수도 있습니다.\n",
    "\n",
    "\n",
    "\n",
    "### Photon\n",
    "\n",
    "Databricks에는 SQL 워크로드와 DataFrames를 위한 네이티브 벡터화된 쿼리 엔진인 **Photon**이 포함되어 있어 성능을 크게 향상시키고 워크로드당 비용을 줄입니다.\n",
    "\n",
    "\n",
    "\n",
    "### 서버리스 컴퓨트\n",
    "\n",
    "**서버리스 컴퓨트**은 인프라를 자동으로 관리하므로 작업 및 대화형 워크로드를 더 쉽고 빠르게 확장할 수 있습니다.\n",
    "\n",
    "\n",
    "\n",
    "### Databricks 런타임\n",
    "\n",
    "Databricks Runtime에는 다음과 같은 최적화된 버전이 포함되어 있습니다.\n",
    "- **Apache Spark**\n",
    "- **Delta Lake**\n",
    "- **인기 라이브러리** (Java, Scala, Python, R)\n",
    "\n",
    "\n",
    "\n",
    "### Databricks Machine Learning Runtime\n",
    "\n",
    "ML Runtime는 다음을 제공합니다.\n",
    "- 사전 설치된 **ML 라이브러리**\n",
    "- 내장 **AutoML**\n",
    "- 데이터 과학 및 ML 태스크에 대한 최적화"
   ]
  },
  {
   "cell_type": "markdown",
   "metadata": {
    "application/vnd.databricks.v1+cell": {
     "cellMetadata": {},
     "inputWidgets": {},
     "nuid": "63c78a1b-f1b7-4aa5-99b3-b40715db4222",
     "showTitle": false,
     "tableResultSettingsMap": {},
     "title": ""
    }
   },
   "source": [
    "\n",
    "## 9. Git 기능(선택 사항)\n",
    "\n",
    "Databricks Workspace를 사용하면 프로젝트를 Git 리포지토리와 연결할 수 있습니다. 이를 통해 코드에 대해 공동 작업하고, 변경 사항을 추적하고, Databricks와 Git 간에 작업을 쉽게 동기화할 수 있습니다. 이 데모에서는 Git 폴더를 만드는 것 외에는 Repos에 대한 실습을 제공하지 않습니다. 그러나 UI를 사용하는 동작을 함께 살펴보겠습니다. \n",
    "\n",
    "Repos로 작업하는 방법은 다음과 같습니다.\n",
    "\n",
    "**\uD83D\uDCCC 참고:** Repos 작업하기 전에 사용자는 Databricks Workspace 수준의 리소스 및 작업에 대한 Git 자격 증명이 있어야 합니다. 이 <a href=\"https://docs.databricks.com/en/repos/repos-setup.html#set-up-databricks-repos\" target=\"_blank\">설명서에</a> 따라 **사용자 설정**에서 Git 자격 증명을 설정합니다. [Databricks는 레거시 Repos보다 Git 폴더를 권장합니다](https://docs.databricks.com/en/repos/what-happened-repos.html).\n",
    "\n",
    "* **리포지토리 추가**:\n",
    "   - 사이드바에서 **Workspace**으로 이동합니다.\n",
    "   - **Workspace Home**에서 오른쪽 상단의 **만들기** 버튼을 클릭합니다.\n",
    "   - 드롭다운에서 **Git 폴더**를 선택합니다.\n",
    "   - Git repo URL을 붙여넣습니다.  \n",
    "   [https://github.com/databricks/databricks-ml-examples.git](https://github.com/databricks/databricks-ml-examples.git)\n",
    "   - **Git 폴더 만들기**를 클릭합니다.\n",
    "   - **Workspace**로 돌아가서 Repos를 클릭하고 사용자 이름이 있는 폴더가 생성되었는지 확인합니다. 그것을 클릭합니다. \n",
    "   - Git 폴더 제목 **databricks-ml-examples**와 이 과정의 폴더 **get-started-with-databricks-for-data-engineering**가 함께 생성되었습니다. \n",
    "\n",
    "* **변경 사항 당기기**:\n",
    "   - 복제된 Git 폴더 내에서 폴더 이름을 마우스 오른쪽 버튼으로 클릭합니다.\n",
    "   - 드랍다운에서 **Git** 옵션을 선택합니다.\n",
    "   - 오른쪽 상단 모서리에 있는 **당기기** 버튼을 클릭하여 최신 변경 사항으로 repo를 업데이트합니다.\n",
    "   \n",
    "* **변경 사항 밀기**:\n",
    "   - 복제된 repo 폴더 내에서 **Git** 버튼을 클릭합니다.\n",
    "   - 변경 사항을 밀기할 **분기**를 선택합니다.\n",
    "   - **밀기**를 선택하여 로컬 변경 사항을 원격 리포지토리로 보냅니다. 변경 사항을 적용하지 않았으므로 실제로 코드를 커밋할 수 없습니다. \n",
    "\n",
    "* **커밋 변경 사항**:\n",
    "   - 복제된 Git 폴더 내에서 Git 버튼을 클릭합니다.\n",
    "   - 변경하려는 **분기**를 선택합니다.\n",
    "   - 커밋 메시지를 입력합니다.\n",
    "   - 변경 내용을 커밋 메시지와 함께 저장하려면 **커밋**을 선택하세요. 참고로, 이 커밋은 실제로 실행되지 않을 것입니다. 이는 단순히 프로세스를 시연하기 위한 것이기 때문입니다."
   ]
  },
  {
   "cell_type": "markdown",
   "metadata": {
    "application/vnd.databricks.v1+cell": {
     "cellMetadata": {},
     "inputWidgets": {},
     "nuid": "413c652f-1578-46ac-b5e7-d01a8e26db9a",
     "showTitle": false,
     "tableResultSettingsMap": {},
     "title": ""
    }
   },
   "source": [
    "\n",
    "## 결론\n",
    "\n",
    "이 데모에서는 작업 공간 작업의 필수 측면을 살펴보았습니다. 워크스페이스 홈페이지, 사이드바 탐색 방법, 사용자 설정 탐색 방법, 클래스룸 설정을 사용하여 데모 및 랩을 설정하는 방법을 이해했습니다. Git가 Databricks와 통합되는 방식을 이해하는 등 워크스페이스 및 탐색 기능을 살펴보았습니다. Notebooks로 작업하는 방법과 Unity Catalog를 사용하여 권한을 관리하는 방법을 살펴보았습니다. 논의할 내용이 훨씬 더 많지만 이는 데이터 인텔리전스 플랫폼의 주요 내용일 뿐입니다."
   ]
  },
  {
   "cell_type": "markdown",
   "metadata": {
    "application/vnd.databricks.v1+cell": {
     "cellMetadata": {},
     "inputWidgets": {},
     "nuid": "c6c526fb-46ae-4949-b49f-733fc656a40f",
     "showTitle": false,
     "tableResultSettingsMap": {},
     "title": ""
    }
   },
   "source": [
    "\n",
    "&copy; 2025 Databricks, Inc. All rights reserved. Apache, Apache Spark, Spark, the Spark Logo, Apache Iceberg, Iceberg, and the Apache Iceberg logo are trademarks of the <a href=\"https://www.apache.org/\" target=\"blank\">Apache Software Foundation</a>.<br/>\n",
    "<br/><a href=\"https://databricks.com/privacy-policy\" target=\"blank\">Privacy Policy</a> | \n",
    "<a href=\"https://databricks.com/terms-of-use\" target=\"blank\">Terms of Use</a> | \n",
    "<a href=\"https://help.databricks.com/\" target=\"blank\">Support</a>\n"
   ]
  }
 ],
 "metadata": {
  "application/vnd.databricks.v1+notebook": {
   "computePreferences": null,
   "dashboards": [],
   "environmentMetadata": null,
   "inputWidgetPreferences": null,
   "language": "python",
   "notebookMetadata": {
    "pythonIndentUnit": 4
   },
   "notebookName": "01 - Databricks Workspace Walkthrough",
   "widgets": {}
  },
  "language_info": {
   "name": "python"
  }
 },
 "nbformat": 4,
 "nbformat_minor": 0
}